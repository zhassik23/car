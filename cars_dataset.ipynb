{
 "cells": [
  {
   "cell_type": "markdown",
   "id": "da897fe6-6ba8-4c06-b497-828c3bd571cf",
   "metadata": {},
   "source": [
    "# All about cars"
   ]
  },
  {
   "cell_type": "markdown",
   "id": "c8082839-0d8e-48d9-a5ef-ae7a34c9360a",
   "metadata": {},
   "source": [
    "#### 1. Pick the Data Set\n",
    "Look into the following sites as an example and select a data set that interests you and meet all the requirements. \n",
    "1. https://www.kaggle.com/datasets\n",
    "2. http://www.kdnuggets.com/datasets/index.html\n",
    "3. Any other source of your choice "
   ]
  },
  {
   "cell_type": "markdown",
   "id": "d3edf61d-c62f-4b95-ae5a-f7ab4b756734",
   "metadata": {},
   "source": [
    "### <b>Description of the project</b>\n",
    "> This platform is very useful for those who are interested in cars and for those who know about cars. In our time, it is difficult to imagine people without cars. It is not easy for people to move around the city. The car as the meaning of life, especially for men. For this reason, I used a dataset to help people who are about to buy a car.\n",
    "\n",
    "In this project, I am going to show complete information about different types of machines and demonstrate various analyzes and statistics. I used a spreadsheet that has information such as car make, model and year of manufacture, and general specifications."
   ]
  },
  {
   "cell_type": "markdown",
   "id": "ec97601d-2932-4910-93f8-9fcdf095c0be",
   "metadata": {
    "tags": []
   },
   "source": [
    "### <b>Data description</b>\n",
    "<b>Make</b> - brand of the vehicle<br>\n",
    "<b>Model</b> - name used by a manufacturer to market a range of similar cars<br>\n",
    "<b>Year</b> - date / time of manufacture<br>\n",
    "<b>Engine Fuel Type</b> - vehicle's type of fuel<br>\n",
    "<b>Engine HP</b> - refers to the power an engine produces<br>\n",
    "<b>Engine Cylinders</b> - the cylinder consists of a piston and two valves at the top<br>\n",
    "<b>Transmission Type</b> - automatic or manual.<br>\n",
    "<b>Driven_Wheels</b> -  a wheel of a motor vehicle that transmits force<br>\n",
    "<b>Number of Doors</b> - amount of door<br>\n",
    "<b>Market Category</b> - car classification<br>\n",
    "<b>broad_impact</b> - benefit society or advance desired societal outcomes<br>\n",
    "<b>Vehicle Size</b> - size of car<br>\n",
    "<b>Vehicle Style</b> - shape and model of a particular automobile make<br>\n",
    "<b>highway MPG</b> - miles per gallon outside the city<br>\n",
    "<b>city mpg</b> - miles per gallon inside the city<br>\n",
    "<b>Popularity</b> - amount of like<br>\n",
    "<b>MSRP</b> - manufacturer's suggested retail price<br>"
   ]
  },
  {
   "cell_type": "markdown",
   "id": "3b8aeece-b85d-4118-a926-19c9171213b0",
   "metadata": {},
   "source": [
    "Here I have updated the pandas library to work further with the newest methods."
   ]
  },
  {
   "cell_type": "code",
   "execution_count": 3,
   "id": "d64db241-3252-4735-949f-af1a06a1aeb8",
   "metadata": {},
   "outputs": [],
   "source": [
    "import numpy as np\n",
    "import pandas as pd\n",
    "import matplotlib.pyplot as plt\n",
    "import seaborn as sns\n",
    "import warnings\n",
    "warnings.filterwarnings('ignore')"
   ]
  },
  {
   "cell_type": "markdown",
   "id": "f8bc1b17-72c6-4969-9f66-7d0881e9be09",
   "metadata": {},
   "source": [
    "Open the data file and examine the general information"
   ]
  },
  {
   "cell_type": "code",
   "execution_count": 4,
   "id": "21edd203-e7de-40a8-9bb9-c408656d2f96",
   "metadata": {},
   "outputs": [
    {
     "data": {
      "text/plain": [
       "(11914, 17)"
      ]
     },
     "execution_count": 4,
     "metadata": {},
     "output_type": "execute_result"
    }
   ],
   "source": [
    "cars = pd.read_csv(\"cars.csv\")\n",
    "cars.shape"
   ]
  },
  {
   "cell_type": "markdown",
   "id": "0e93b490-02a4-4243-8218-1c72d7ac2cf7",
   "metadata": {},
   "source": [
    "Then let's see information about our table."
   ]
  },
  {
   "cell_type": "code",
   "execution_count": 5,
   "id": "84f49005-cebf-4b5c-a1e6-0d5d9c6cdb18",
   "metadata": {},
   "outputs": [
    {
     "name": "stdout",
     "output_type": "stream",
     "text": [
      "<class 'pandas.core.frame.DataFrame'>\n",
      "RangeIndex: 11914 entries, 0 to 11913\n",
      "Data columns (total 17 columns):\n",
      " #   Column             Non-Null Count  Dtype  \n",
      "---  ------             --------------  -----  \n",
      " 0   Unnamed: 0         11914 non-null  int64  \n",
      " 1   Make               11914 non-null  object \n",
      " 2   Model              11914 non-null  object \n",
      " 3   Year               11914 non-null  int64  \n",
      " 4   Engine Fuel Type   11914 non-null  int64  \n",
      " 5   Engine HP          11914 non-null  float64\n",
      " 6   Engine Cylinders   11914 non-null  float64\n",
      " 7   Transmission Type  11914 non-null  object \n",
      " 8   Driven_Wheels      11914 non-null  object \n",
      " 9   Number of Doors    11914 non-null  float64\n",
      " 10  Market Category    11914 non-null  object \n",
      " 11  Vehicle Size       11914 non-null  object \n",
      " 12  Vehicle Style      11914 non-null  object \n",
      " 13  highway MPG        11914 non-null  int64  \n",
      " 14  city mpg           11914 non-null  int64  \n",
      " 15  Popularity         11914 non-null  int64  \n",
      " 16  MSRP               11914 non-null  int64  \n",
      "dtypes: float64(3), int64(7), object(7)\n",
      "memory usage: 1.5+ MB\n"
     ]
    },
    {
     "data": {
      "text/plain": [
       "None"
      ]
     },
     "metadata": {},
     "output_type": "display_data"
    }
   ],
   "source": [
    "display(cars.info())"
   ]
  },
  {
   "cell_type": "code",
   "execution_count": 6,
   "id": "425ac220-937e-4a05-83f0-c7b7a07f91f5",
   "metadata": {},
   "outputs": [],
   "source": [
    "del cars['Unnamed: 0']"
   ]
  },
  {
   "cell_type": "markdown",
   "id": "7f6de80f-d469-4c1c-a333-bedd96728aa1",
   "metadata": {},
   "source": [
    "Replace column names with lowercase letters"
   ]
  },
  {
   "cell_type": "code",
   "execution_count": 7,
   "id": "278b9085-f383-44cb-afa9-0534d2fc7d49",
   "metadata": {},
   "outputs": [],
   "source": [
    "cars.columns = cars.columns.str.lower()"
   ]
  },
  {
   "cell_type": "code",
   "execution_count": 8,
   "id": "87234404-5042-4d71-94db-b6b6e7b27778",
   "metadata": {},
   "outputs": [],
   "source": [
    "cars = cars.rename(columns = {'engine fuel type': 'engine_fuel_type', 'engine hp': 'hp', 'engine cylinders': 'cylinders', 'transmission type': 'transmission', 'number of doors': 'number_of_doors', 'market category': 'market_category', 'vehicle size': 'vehicle_size', 'vehicle style': 'vehicle_style', 'highway mpg': 'highway_mpg', 'city mpg': 'city_mpg'}, inplace = False)"
   ]
  },
  {
   "cell_type": "markdown",
   "id": "adea5b96-45da-4999-9724-682cdc703261",
   "metadata": {},
   "source": [
    "Drop wasting colums"
   ]
  },
  {
   "cell_type": "code",
   "execution_count": 9,
   "id": "0566ccd3-9eec-4f9a-b558-49ca63919d93",
   "metadata": {},
   "outputs": [],
   "source": [
    "cars = cars.drop(['engine_fuel_type', 'market_category', 'number_of_doors', 'vehicle_size', 'vehicle_style', 'popularity'], axis=1)"
   ]
  },
  {
   "cell_type": "code",
   "execution_count": 10,
   "id": "33ac7d6e-e38f-4a03-a1eb-6aae34348de7",
   "metadata": {},
   "outputs": [
    {
     "data": {
      "text/html": [
       "<div>\n",
       "<style scoped>\n",
       "    .dataframe tbody tr th:only-of-type {\n",
       "        vertical-align: middle;\n",
       "    }\n",
       "\n",
       "    .dataframe tbody tr th {\n",
       "        vertical-align: top;\n",
       "    }\n",
       "\n",
       "    .dataframe thead th {\n",
       "        text-align: right;\n",
       "    }\n",
       "</style>\n",
       "<table border=\"1\" class=\"dataframe\">\n",
       "  <thead>\n",
       "    <tr style=\"text-align: right;\">\n",
       "      <th></th>\n",
       "      <th>make</th>\n",
       "      <th>model</th>\n",
       "      <th>year</th>\n",
       "      <th>hp</th>\n",
       "      <th>cylinders</th>\n",
       "      <th>transmission</th>\n",
       "      <th>driven_wheels</th>\n",
       "      <th>highway_mpg</th>\n",
       "      <th>city_mpg</th>\n",
       "      <th>msrp</th>\n",
       "    </tr>\n",
       "  </thead>\n",
       "  <tbody>\n",
       "    <tr>\n",
       "      <th>0</th>\n",
       "      <td>BMW</td>\n",
       "      <td>1 Series M</td>\n",
       "      <td>2011</td>\n",
       "      <td>335.0</td>\n",
       "      <td>6.0</td>\n",
       "      <td>MANUAL</td>\n",
       "      <td>rear wheel drive</td>\n",
       "      <td>26</td>\n",
       "      <td>19</td>\n",
       "      <td>46135</td>\n",
       "    </tr>\n",
       "    <tr>\n",
       "      <th>1</th>\n",
       "      <td>BMW</td>\n",
       "      <td>1 Series</td>\n",
       "      <td>2011</td>\n",
       "      <td>300.0</td>\n",
       "      <td>6.0</td>\n",
       "      <td>MANUAL</td>\n",
       "      <td>rear wheel drive</td>\n",
       "      <td>28</td>\n",
       "      <td>19</td>\n",
       "      <td>40650</td>\n",
       "    </tr>\n",
       "    <tr>\n",
       "      <th>2</th>\n",
       "      <td>BMW</td>\n",
       "      <td>1 Series</td>\n",
       "      <td>2011</td>\n",
       "      <td>300.0</td>\n",
       "      <td>6.0</td>\n",
       "      <td>MANUAL</td>\n",
       "      <td>rear wheel drive</td>\n",
       "      <td>28</td>\n",
       "      <td>20</td>\n",
       "      <td>36350</td>\n",
       "    </tr>\n",
       "    <tr>\n",
       "      <th>3</th>\n",
       "      <td>BMW</td>\n",
       "      <td>1 Series</td>\n",
       "      <td>2011</td>\n",
       "      <td>230.0</td>\n",
       "      <td>6.0</td>\n",
       "      <td>MANUAL</td>\n",
       "      <td>rear wheel drive</td>\n",
       "      <td>28</td>\n",
       "      <td>18</td>\n",
       "      <td>29450</td>\n",
       "    </tr>\n",
       "    <tr>\n",
       "      <th>4</th>\n",
       "      <td>BMW</td>\n",
       "      <td>1 Series</td>\n",
       "      <td>2011</td>\n",
       "      <td>230.0</td>\n",
       "      <td>6.0</td>\n",
       "      <td>MANUAL</td>\n",
       "      <td>rear wheel drive</td>\n",
       "      <td>28</td>\n",
       "      <td>18</td>\n",
       "      <td>34500</td>\n",
       "    </tr>\n",
       "  </tbody>\n",
       "</table>\n",
       "</div>"
      ],
      "text/plain": [
       "  make       model  year     hp  cylinders transmission     driven_wheels  \\\n",
       "0  BMW  1 Series M  2011  335.0        6.0       MANUAL  rear wheel drive   \n",
       "1  BMW    1 Series  2011  300.0        6.0       MANUAL  rear wheel drive   \n",
       "2  BMW    1 Series  2011  300.0        6.0       MANUAL  rear wheel drive   \n",
       "3  BMW    1 Series  2011  230.0        6.0       MANUAL  rear wheel drive   \n",
       "4  BMW    1 Series  2011  230.0        6.0       MANUAL  rear wheel drive   \n",
       "\n",
       "   highway_mpg  city_mpg   msrp  \n",
       "0           26        19  46135  \n",
       "1           28        19  40650  \n",
       "2           28        20  36350  \n",
       "3           28        18  29450  \n",
       "4           28        18  34500  "
      ]
     },
     "execution_count": 10,
     "metadata": {},
     "output_type": "execute_result"
    }
   ],
   "source": [
    "cars.head()"
   ]
  },
  {
   "cell_type": "code",
   "execution_count": 11,
   "id": "39038c33-9f3b-411e-8f33-ec549052aa1e",
   "metadata": {},
   "outputs": [
    {
     "data": {
      "text/html": [
       "<div>\n",
       "<style scoped>\n",
       "    .dataframe tbody tr th:only-of-type {\n",
       "        vertical-align: middle;\n",
       "    }\n",
       "\n",
       "    .dataframe tbody tr th {\n",
       "        vertical-align: top;\n",
       "    }\n",
       "\n",
       "    .dataframe thead th {\n",
       "        text-align: right;\n",
       "    }\n",
       "</style>\n",
       "<table border=\"1\" class=\"dataframe\">\n",
       "  <thead>\n",
       "    <tr style=\"text-align: right;\">\n",
       "      <th></th>\n",
       "      <th>make</th>\n",
       "      <th>model</th>\n",
       "      <th>year</th>\n",
       "      <th>hp</th>\n",
       "      <th>cylinders</th>\n",
       "      <th>transmission</th>\n",
       "      <th>driven_wheels</th>\n",
       "      <th>highway_mpg</th>\n",
       "      <th>city_mpg</th>\n",
       "      <th>msrp</th>\n",
       "    </tr>\n",
       "  </thead>\n",
       "  <tbody>\n",
       "    <tr>\n",
       "      <th>11909</th>\n",
       "      <td>Acura</td>\n",
       "      <td>ZDX</td>\n",
       "      <td>2012</td>\n",
       "      <td>300.0</td>\n",
       "      <td>6.0</td>\n",
       "      <td>AUTOMATIC</td>\n",
       "      <td>all wheel drive</td>\n",
       "      <td>23</td>\n",
       "      <td>16</td>\n",
       "      <td>46120</td>\n",
       "    </tr>\n",
       "    <tr>\n",
       "      <th>11910</th>\n",
       "      <td>Acura</td>\n",
       "      <td>ZDX</td>\n",
       "      <td>2012</td>\n",
       "      <td>300.0</td>\n",
       "      <td>6.0</td>\n",
       "      <td>AUTOMATIC</td>\n",
       "      <td>all wheel drive</td>\n",
       "      <td>23</td>\n",
       "      <td>16</td>\n",
       "      <td>56670</td>\n",
       "    </tr>\n",
       "    <tr>\n",
       "      <th>11911</th>\n",
       "      <td>Acura</td>\n",
       "      <td>ZDX</td>\n",
       "      <td>2012</td>\n",
       "      <td>300.0</td>\n",
       "      <td>6.0</td>\n",
       "      <td>AUTOMATIC</td>\n",
       "      <td>all wheel drive</td>\n",
       "      <td>23</td>\n",
       "      <td>16</td>\n",
       "      <td>50620</td>\n",
       "    </tr>\n",
       "    <tr>\n",
       "      <th>11912</th>\n",
       "      <td>Acura</td>\n",
       "      <td>ZDX</td>\n",
       "      <td>2013</td>\n",
       "      <td>300.0</td>\n",
       "      <td>6.0</td>\n",
       "      <td>AUTOMATIC</td>\n",
       "      <td>all wheel drive</td>\n",
       "      <td>23</td>\n",
       "      <td>16</td>\n",
       "      <td>50920</td>\n",
       "    </tr>\n",
       "    <tr>\n",
       "      <th>11913</th>\n",
       "      <td>Lincoln</td>\n",
       "      <td>Zephyr</td>\n",
       "      <td>2006</td>\n",
       "      <td>221.0</td>\n",
       "      <td>6.0</td>\n",
       "      <td>AUTOMATIC</td>\n",
       "      <td>front wheel drive</td>\n",
       "      <td>26</td>\n",
       "      <td>17</td>\n",
       "      <td>28995</td>\n",
       "    </tr>\n",
       "  </tbody>\n",
       "</table>\n",
       "</div>"
      ],
      "text/plain": [
       "          make   model  year     hp  cylinders transmission  \\\n",
       "11909    Acura     ZDX  2012  300.0        6.0    AUTOMATIC   \n",
       "11910    Acura     ZDX  2012  300.0        6.0    AUTOMATIC   \n",
       "11911    Acura     ZDX  2012  300.0        6.0    AUTOMATIC   \n",
       "11912    Acura     ZDX  2013  300.0        6.0    AUTOMATIC   \n",
       "11913  Lincoln  Zephyr  2006  221.0        6.0    AUTOMATIC   \n",
       "\n",
       "           driven_wheels  highway_mpg  city_mpg   msrp  \n",
       "11909    all wheel drive           23        16  46120  \n",
       "11910    all wheel drive           23        16  56670  \n",
       "11911    all wheel drive           23        16  50620  \n",
       "11912    all wheel drive           23        16  50920  \n",
       "11913  front wheel drive           26        17  28995  "
      ]
     },
     "execution_count": 11,
     "metadata": {},
     "output_type": "execute_result"
    }
   ],
   "source": [
    "cars.tail()"
   ]
  },
  {
   "cell_type": "code",
   "execution_count": 12,
   "id": "072eef75-e411-4fc9-908b-102519121fbb",
   "metadata": {},
   "outputs": [
    {
     "data": {
      "text/plain": [
       "make             0\n",
       "model            0\n",
       "year             0\n",
       "hp               0\n",
       "cylinders        0\n",
       "transmission     0\n",
       "driven_wheels    0\n",
       "highway_mpg      0\n",
       "city_mpg         0\n",
       "msrp             0\n",
       "dtype: int64"
      ]
     },
     "execution_count": 12,
     "metadata": {},
     "output_type": "execute_result"
    }
   ],
   "source": [
    "cars.isnull().sum()"
   ]
  },
  {
   "cell_type": "code",
   "execution_count": 13,
   "id": "ba1920fa-4ca9-4ada-a924-2ef38b57197c",
   "metadata": {},
   "outputs": [
    {
     "data": {
      "text/plain": [
       "make              object\n",
       "model             object\n",
       "year               int64\n",
       "hp               float64\n",
       "cylinders        float64\n",
       "transmission      object\n",
       "driven_wheels     object\n",
       "highway_mpg        int64\n",
       "city_mpg           int64\n",
       "msrp               int64\n",
       "dtype: object"
      ]
     },
     "execution_count": 13,
     "metadata": {},
     "output_type": "execute_result"
    }
   ],
   "source": [
    "cars.dtypes"
   ]
  },
  {
   "cell_type": "markdown",
   "id": "e5566232-bfcf-45c8-8bbc-8e1ab2aac6fb",
   "metadata": {},
   "source": [
    "------------------------------------------------------------------------------------------------------------------------"
   ]
  },
  {
   "cell_type": "markdown",
   "id": "c2755c74-03ec-411f-8ea8-a46a3f17b224",
   "metadata": {},
   "source": [
    "#### 3. Manipulate and analyze the data \n",
    "* Do the analysis for at least one categorical variable and at least one numerical variable. Show appropriate plots for your data. Describe the result of your analysis.\n",
    "* Do the analysis for at least one set of two or more variables. Show appropriate plots for your data. Describe the result of your analysis.\n",
    "* Pick the variable (column) with date/datetime values and show the appropriate plot for your data. Describe the result of your analysis.\n",
    "* Pick the variable (column) to perform the groupby and apply filtration on the data. Describe the result of your analysis.\n",
    "* Implement any feature(s) of your own choice that is/are not mentioned in the specification."
   ]
  },
  {
   "cell_type": "code",
   "execution_count": 20,
   "id": "2024ce36-e6b8-420d-aba6-e45cb77d95cc",
   "metadata": {},
   "outputs": [
    {
     "data": {
      "text/plain": [
       "Text(0.5, 0, 'MAKE')"
      ]
     },
     "execution_count": 20,
     "metadata": {},
     "output_type": "execute_result"
    },
    {
     "data": {
      "image/png": "[encoded data removed]",
      "text/plain": [
       "<Figure size 1080x648 with 1 Axes>"
      ]
     },
     "metadata": {
      "needs_background": "light"
     },
     "output_type": "display_data"
    }
   ],
   "source": [
    "plt.rcParams['figure.figsize'] = [15, 9] \n",
    "\n",
    "cars.make.value_counts().nlargest(20).plot(kind = 'bar')\n",
    "plt.title(\"Amount of car by its make\", fontsize = 22, fontweight = 'bold')\n",
    "plt.ylabel('NUMBER OF CARS', fontsize = 14, fontweight = 'bold')\n",
    "plt.xlabel('MAKE', fontsize = 14, fontweight = 'bold')\n"
   ]
  },
  {
   "cell_type": "code",
   "execution_count": 15,
   "id": "0a6e733b-7159-4d99-b7ef-2be5aec30087",
   "metadata": {},
   "outputs": [
    {
     "data": {
      "image/png": "[encoded data removed]",
      "text/plain": [
       "<Figure size 1080x648 with 1 Axes>"
      ]
     },
     "metadata": {
      "needs_background": "light"
     },
     "output_type": "display_data"
    }
   ],
   "source": [
    "plt.rcParams['figure.figsize'] = [15, 9] \n",
    "\n",
    "fig, ax = plt.subplots()\n",
    "ax.scatter(cars['hp'], cars['msrp'])\n",
    "ax.set_title('Cars HP by its price', fontsize = 22, fontweight = 'bold')\n",
    "ax.set_xlabel('HP', fontsize = 14, fontweight = 'bold')\n",
    "ax.set_ylabel('MSRP', fontsize = 14, fontweight = 'bold')\n",
    "plt.show()"
   ]
  },
  {
   "cell_type": "code",
   "execution_count": 19,
   "id": "fcbd5fde-44ad-4c77-b9fa-68d6470ba73b",
   "metadata": {},
   "outputs": [
    {
     "data": {
      "image/png": "[encoded data removed]",
      "text/plain": [
       "<Figure size 1080x648 with 1 Axes>"
      ]
     },
     "metadata": {
      "needs_background": "light"
     },
     "output_type": "display_data"
    },
    {
     "data": {
      "image/png": "[encoded data removed]",
      "text/plain": [
       "<Figure size 1080x648 with 1 Axes>"
      ]
     },
     "metadata": {
      "needs_background": "light"
     },
     "output_type": "display_data"
    },
    {
     "data": {
      "image/png": "[encoded data removed]",
      "text/plain": [
       "<Figure size 1080x648 with 1 Axes>"
      ]
     },
     "metadata": {
      "needs_background": "light"
     },
     "output_type": "display_data"
    }
   ],
   "source": [
    "a = sns.boxplot(x = cars['msrp'], color = 'red')\n",
    "a.set_title('MSRP', fontsize = 25, fontweight = 'bold', color = 'red')\n",
    "plt.show()\n",
    "\n",
    "a = sns.boxplot(x = cars['cylinders'], color = 'blue')\n",
    "a.set_title('CYLINDERS', fontsize = 25, fontweight = 'bold', color = 'blue')\n",
    "plt.show()\n",
    "\n",
    "a = sns.boxplot(x = cars['hp'], color = 'green')\n",
    "a.set_title('HP', fontsize = 25, fontweight = 'bold', color = 'green')\n",
    "plt.show()"
   ]
  },
  {
   "cell_type": "code",
   "execution_count": null,
   "id": "7407c3a9-5ea3-4c1f-89ab-14e16cb21aec",
   "metadata": {},
   "outputs": [],
   "source": []
  }
 ],
 "metadata": {
  "kernelspec": {
   "display_name": "Python 3",
   "language": "python",
   "name": "python3"
  },
  "language_info": {
   "codemirror_mode": {
    "name": "ipython",
    "version": 3
   },
   "file_extension": ".py",
   "mimetype": "text/x-python",
   "name": "python",
   "nbconvert_exporter": "python",
   "pygments_lexer": "ipython3",
   "version": "3.8.8"
  }
 },
 "nbformat": 4,
 "nbformat_minor": 5
}
